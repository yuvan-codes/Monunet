{
 "cells": [
  {
   "cell_type": "markdown",
   "id": "f1261ffe",
   "metadata": {
    "papermill": {
     "duration": 0.009962,
     "end_time": "2023-11-24T07:42:31.058284",
     "exception": false,
     "start_time": "2023-11-24T07:42:31.048322",
     "status": "completed"
    },
    "tags": []
   },
   "source": [
    "# Import packages"
   ]
  },
  {
   "cell_type": "code",
   "execution_count": 1,
   "id": "473833d3",
   "metadata": {
    "execution": {
     "iopub.execute_input": "2023-11-24T07:42:31.078965Z",
     "iopub.status.busy": "2023-11-24T07:42:31.078580Z",
     "iopub.status.idle": "2023-11-24T07:42:40.950006Z",
     "shell.execute_reply": "2023-11-24T07:42:40.949139Z"
    },
    "papermill": {
     "duration": 9.884383,
     "end_time": "2023-11-24T07:42:40.952331",
     "exception": false,
     "start_time": "2023-11-24T07:42:31.067948",
     "status": "completed"
    },
    "tags": []
   },
   "outputs": [
    {
     "name": "stderr",
     "output_type": "stream",
     "text": [
      "/opt/conda/lib/python3.10/site-packages/scipy/__init__.py:146: UserWarning: A NumPy version >=1.16.5 and <1.23.0 is required for this version of SciPy (detected version 1.23.5\n",
      "  warnings.warn(f\"A NumPy version >={np_minversion} and <{np_maxversion}\"\n"
     ]
    }
   ],
   "source": [
    "import numpy as np\n",
    "import matplotlib\n",
    "import matplotlib.pyplot as plt\n",
    "import tensorflow as tf\n",
    "from tensorflow.keras.layers.experimental.preprocessing import Resizing, Rescaling, RandomFlip, RandomRotation\n",
    "from tensorflow.keras import Sequential\n",
    "from tensorflow.keras.applications import Xception,resnet\n",
    "from tensorflow.keras.applications.inception_v3 import InceptionV3 \n",
    "from tensorflow.keras.applications.vgg19 import VGG19,preprocess_input\n",
    "from tensorflow.keras.applications import efficientnet\n",
    "from tensorflow.keras.layers import (GlobalAveragePooling2D, Activation, MaxPooling2D, Add, Conv2D, MaxPool2D, Dense,\n",
    "                                     Flatten, InputLayer, BatchNormalization, Input,DepthwiseConv2D, Embedding, Permute,\n",
    "                                     Dropout, RandomFlip, RandomRotation, LayerNormalization, MultiHeadAttention,\n",
    "                                     RandomContrast, Rescaling, Resizing, Reshape,ReLU,AvgPool2D,Layer)\n",
    "from sklearn.metrics import accuracy_score, precision_score, recall_score, f1_score, confusion_matrix\n",
    "import itertools"
   ]
  },
  {
   "cell_type": "code",
   "execution_count": 2,
   "id": "77be4979",
   "metadata": {
    "execution": {
     "iopub.execute_input": "2023-11-24T07:42:40.973177Z",
     "iopub.status.busy": "2023-11-24T07:42:40.972561Z",
     "iopub.status.idle": "2023-11-24T07:42:40.978367Z",
     "shell.execute_reply": "2023-11-24T07:42:40.977508Z"
    },
    "papermill": {
     "duration": 0.018242,
     "end_time": "2023-11-24T07:42:40.980335",
     "exception": false,
     "start_time": "2023-11-24T07:42:40.962093",
     "status": "completed"
    },
    "tags": []
   },
   "outputs": [],
   "source": [
    "%matplotlib inline\n",
    "\n",
    "matplotlib.rcParams['figure.facecolor'] = '#ffffff'"
   ]
  },
  {
   "cell_type": "code",
   "execution_count": 3,
   "id": "148a2383",
   "metadata": {
    "execution": {
     "iopub.execute_input": "2023-11-24T07:42:41.000974Z",
     "iopub.status.busy": "2023-11-24T07:42:41.000598Z",
     "iopub.status.idle": "2023-11-24T07:42:41.004678Z",
     "shell.execute_reply": "2023-11-24T07:42:41.003818Z"
    },
    "papermill": {
     "duration": 0.016615,
     "end_time": "2023-11-24T07:42:41.006566",
     "exception": false,
     "start_time": "2023-11-24T07:42:40.989951",
     "status": "completed"
    },
    "tags": []
   },
   "outputs": [],
   "source": [
    "IMAGE_SIZE = 256"
   ]
  },
  {
   "cell_type": "markdown",
   "id": "e5502acc",
   "metadata": {
    "papermill": {
     "duration": 0.009302,
     "end_time": "2023-11-24T07:42:41.025440",
     "exception": false,
     "start_time": "2023-11-24T07:42:41.016138",
     "status": "completed"
    },
    "tags": []
   },
   "source": [
    "# Split the dataset into training and testing"
   ]
  },
  {
   "cell_type": "code",
   "execution_count": 4,
   "id": "1994cb70",
   "metadata": {
    "execution": {
     "iopub.execute_input": "2023-11-24T07:42:41.046706Z",
     "iopub.status.busy": "2023-11-24T07:42:41.045547Z",
     "iopub.status.idle": "2023-11-24T07:42:41.052400Z",
     "shell.execute_reply": "2023-11-24T07:42:41.051646Z"
    },
    "papermill": {
     "duration": 0.019333,
     "end_time": "2023-11-24T07:42:41.054267",
     "exception": false,
     "start_time": "2023-11-24T07:42:41.034934",
     "status": "completed"
    },
    "tags": []
   },
   "outputs": [],
   "source": [
    "train_dir = \"/kaggle/input/monument-dataset/dataset_monunet\"\n",
    "\n",
    "CONFIGURATION = {\n",
    "    \"BATCH_SIZE\": 8,\n",
    "    \"IMAGE_SIZE\": 256,\n",
    "    \"LEARNING_RATE\": 1e-3,\n",
    "    \"EPOCHS\": 50,\n",
    "    \"DROPOUT_RATE\": 0.0,\n",
    "    \"REGULARIZATION_RATE\": 0.0,\n",
    "    \"N_FILTERS\": 6,\n",
    "    \"KERNEL_SIZE\": 3,\n",
    "    \"N_STRIDES\": 1,\n",
    "    \"POOL_SIZE\": 2,\n",
    "    \"N_DENSE_1\": 1024,\n",
    "    \"N_DENSE_2\": 128,\n",
    "    \"NUM_CLASSES\": 13,\n",
    "    \"PATCH_SIZE\": 16,\n",
    "    \"PROJ_DIM\": 768,\n",
    "    \"class_names\" : ['Belur Math,Kolkata,India','Black Hole Monument,Kolkata,India','Dakshineswar Kali Temple,Kolkata,India','Fort William,Kolkata,India','Howrah Bridge,Kolkata,India','James Princep Memorial,Kolkata,India','Marble Palace,Kolkata,India','Metcalfe Hall,Kolkata,India','Raj Bhavan,Kolkata,India','Shaheed Minar,Kolkata,India','St. Pauls Cathedral,Kolkata,India','Victoria Memorial,Kolkata,India','Writer’s Building,Kolkata,India']\n",
    "}"
   ]
  },
  {
   "cell_type": "code",
   "execution_count": 5,
   "id": "dfe97d31",
   "metadata": {
    "execution": {
     "iopub.execute_input": "2023-11-24T07:42:41.075123Z",
     "iopub.status.busy": "2023-11-24T07:42:41.074798Z",
     "iopub.status.idle": "2023-11-24T07:42:44.325885Z",
     "shell.execute_reply": "2023-11-24T07:42:44.325059Z"
    },
    "papermill": {
     "duration": 3.264018,
     "end_time": "2023-11-24T07:42:44.328249",
     "exception": false,
     "start_time": "2023-11-24T07:42:41.064231",
     "status": "completed"
    },
    "tags": []
   },
   "outputs": [
    {
     "name": "stdout",
     "output_type": "stream",
     "text": [
      "Found 571 files belonging to 13 classes.\n"
     ]
    }
   ],
   "source": [
    "train_ds=tf.keras.utils.image_dataset_from_directory(\n",
    "    train_dir,\n",
    "    labels='inferred',\n",
    "    label_mode='categorical',\n",
    "    class_names=CONFIGURATION[\"class_names\"], \n",
    "    color_mode='rgb',\n",
    "    batch_size=CONFIGURATION[\"BATCH_SIZE\"],\n",
    "    image_size=(CONFIGURATION[\"IMAGE_SIZE\"],CONFIGURATION[\"IMAGE_SIZE\"]),\n",
    "    shuffle=True,\n",
    "    seed=99,\n",
    ")"
   ]
  },
  {
   "cell_type": "code",
   "execution_count": 6,
   "id": "2fb12959",
   "metadata": {
    "execution": {
     "iopub.execute_input": "2023-11-24T07:42:44.349641Z",
     "iopub.status.busy": "2023-11-24T07:42:44.349280Z",
     "iopub.status.idle": "2023-11-24T07:42:44.356797Z",
     "shell.execute_reply": "2023-11-24T07:42:44.355821Z"
    },
    "papermill": {
     "duration": 0.02057,
     "end_time": "2023-11-24T07:42:44.358727",
     "exception": false,
     "start_time": "2023-11-24T07:42:44.338157",
     "status": "completed"
    },
    "tags": []
   },
   "outputs": [
    {
     "data": {
      "text/plain": [
       "72"
      ]
     },
     "execution_count": 6,
     "metadata": {},
     "output_type": "execute_result"
    }
   ],
   "source": [
    "len(train_ds)"
   ]
  },
  {
   "cell_type": "code",
   "execution_count": 7,
   "id": "9f5e9d2a",
   "metadata": {
    "execution": {
     "iopub.execute_input": "2023-11-24T07:42:44.380251Z",
     "iopub.status.busy": "2023-11-24T07:42:44.379402Z",
     "iopub.status.idle": "2023-11-24T07:42:44.395496Z",
     "shell.execute_reply": "2023-11-24T07:42:44.394731Z"
    },
    "papermill": {
     "duration": 0.029109,
     "end_time": "2023-11-24T07:42:44.397669",
     "exception": false,
     "start_time": "2023-11-24T07:42:44.368560",
     "status": "completed"
    },
    "tags": []
   },
   "outputs": [],
   "source": [
    "def data_split(dataset,TRAIN_RATIO,VAL_RATIO,TEST_RATIO):\n",
    "    size=len(dataset)\n",
    "    train_dataset=dataset.take(int(TRAIN_RATIO*size))\n",
    "    val_dataset=dataset.skip(int(TRAIN_RATIO*size))\n",
    "    test_dataset=val_dataset.skip(int(TEST_RATIO*size))\n",
    "    test_dataset=test_dataset.take(int(TEST_RATIO*size))\n",
    "    val_dataset=val_dataset.take(int(VAL_RATIO*size))\n",
    "    return train_dataset,val_dataset,test_dataset\n",
    "train_ds,val_ds,test_ds=data_split(train_ds,0.8,0.1,0.1)"
   ]
  },
  {
   "cell_type": "markdown",
   "id": "0f43a80b",
   "metadata": {
    "papermill": {
     "duration": 0.009553,
     "end_time": "2023-11-24T07:42:44.417437",
     "exception": false,
     "start_time": "2023-11-24T07:42:44.407884",
     "status": "completed"
    },
    "tags": []
   },
   "source": [
    "# Resizing, Rescaling and data augmentation"
   ]
  },
  {
   "cell_type": "code",
   "execution_count": 8,
   "id": "84f5bceb",
   "metadata": {
    "execution": {
     "iopub.execute_input": "2023-11-24T07:42:44.438711Z",
     "iopub.status.busy": "2023-11-24T07:42:44.438355Z",
     "iopub.status.idle": "2023-11-24T07:42:44.455219Z",
     "shell.execute_reply": "2023-11-24T07:42:44.454421Z"
    },
    "papermill": {
     "duration": 0.029788,
     "end_time": "2023-11-24T07:42:44.457263",
     "exception": false,
     "start_time": "2023-11-24T07:42:44.427475",
     "status": "completed"
    },
    "tags": []
   },
   "outputs": [],
   "source": [
    "train_ds = train_ds.cache().shuffle(2000).prefetch(buffer_size=tf.data.AUTOTUNE)\n",
    "val_ds = val_ds.cache().shuffle(1000).prefetch(buffer_size=tf.data.AUTOTUNE)\n",
    "val_ds = val_ds.cache().shuffle(500).prefetch(buffer_size=tf.data.AUTOTUNE)"
   ]
  },
  {
   "cell_type": "code",
   "execution_count": 9,
   "id": "30177c7f",
   "metadata": {
    "execution": {
     "iopub.execute_input": "2023-11-24T07:42:44.478132Z",
     "iopub.status.busy": "2023-11-24T07:42:44.477819Z",
     "iopub.status.idle": "2023-11-24T07:42:44.497192Z",
     "shell.execute_reply": "2023-11-24T07:42:44.495530Z"
    },
    "papermill": {
     "duration": 0.032484,
     "end_time": "2023-11-24T07:42:44.499685",
     "exception": false,
     "start_time": "2023-11-24T07:42:44.467201",
     "status": "completed"
    },
    "tags": []
   },
   "outputs": [],
   "source": [
    "from tensorflow.keras import models, layers\n",
    "resize_and_rescale = Sequential([\n",
    "    Resizing(IMAGE_SIZE, IMAGE_SIZE),\n",
    "    Rescaling(1.0/255) \n",
    "])"
   ]
  },
  {
   "cell_type": "code",
   "execution_count": 10,
   "id": "bc90f2f5",
   "metadata": {
    "execution": {
     "iopub.execute_input": "2023-11-24T07:42:44.521308Z",
     "iopub.status.busy": "2023-11-24T07:42:44.520481Z",
     "iopub.status.idle": "2023-11-24T07:42:44.525875Z",
     "shell.execute_reply": "2023-11-24T07:42:44.524955Z"
    },
    "papermill": {
     "duration": 0.018534,
     "end_time": "2023-11-24T07:42:44.528248",
     "exception": false,
     "start_time": "2023-11-24T07:42:44.509714",
     "status": "completed"
    },
    "tags": []
   },
   "outputs": [],
   "source": [
    "class Bright(Layer):\n",
    "    def __init__(self):\n",
    "        super().__init__()\n",
    "        \n",
    "    def call(self, image):\n",
    "        return tf.image.adjust_brightness(image, 0.1)"
   ]
  },
  {
   "cell_type": "code",
   "execution_count": 11,
   "id": "7b863c4c",
   "metadata": {
    "execution": {
     "iopub.execute_input": "2023-11-24T07:42:44.550083Z",
     "iopub.status.busy": "2023-11-24T07:42:44.549485Z",
     "iopub.status.idle": "2023-11-24T07:42:44.559951Z",
     "shell.execute_reply": "2023-11-24T07:42:44.559002Z"
    },
    "papermill": {
     "duration": 0.023713,
     "end_time": "2023-11-24T07:42:44.561923",
     "exception": false,
     "start_time": "2023-11-24T07:42:44.538210",
     "status": "completed"
    },
    "tags": []
   },
   "outputs": [],
   "source": [
    "data_augmentation = tf.keras.Sequential([\n",
    "    RandomFlip(\"horizontal_and_vertical\"), #horizontal and vertical flip\n",
    "    RandomRotation(0.2), #Rotates\n",
    "    # Bright()\n",
    "])"
   ]
  },
  {
   "cell_type": "markdown",
   "id": "97ed3f44",
   "metadata": {
    "papermill": {
     "duration": 0.009622,
     "end_time": "2023-11-24T07:42:44.582410",
     "exception": false,
     "start_time": "2023-11-24T07:42:44.572788",
     "status": "completed"
    },
    "tags": []
   },
   "source": [
    "# Model creation"
   ]
  },
  {
   "cell_type": "code",
   "execution_count": 12,
   "id": "89171cdc",
   "metadata": {
    "execution": {
     "iopub.execute_input": "2023-11-24T07:42:44.603640Z",
     "iopub.status.busy": "2023-11-24T07:42:44.602939Z",
     "iopub.status.idle": "2023-11-24T07:42:49.010449Z",
     "shell.execute_reply": "2023-11-24T07:42:49.009505Z"
    },
    "papermill": {
     "duration": 4.420324,
     "end_time": "2023-11-24T07:42:49.012462",
     "exception": false,
     "start_time": "2023-11-24T07:42:44.592138",
     "status": "completed"
    },
    "tags": []
   },
   "outputs": [
    {
     "name": "stdout",
     "output_type": "stream",
     "text": [
      "Downloading data from https://storage.googleapis.com/tensorflow/keras-applications/inception_v3/inception_v3_weights_tf_dim_ordering_tf_kernels_notop.h5\n",
      "87910968/87910968 [==============================] - 0s 0us/step\n",
      "Model: \"sequential_2\"\n",
      "_________________________________________________________________\n",
      " Layer (type)                Output Shape              Param #   \n",
      "=================================================================\n",
      " sequential (Sequential)     (None, 256, 256, 3)       0         \n",
      "                                                                 \n",
      " sequential_1 (Sequential)   (None, 256, 256, 3)       0         \n",
      "                                                                 \n",
      " inception_v3 (Functional)   (None, 6, 6, 2048)        21802784  \n",
      "                                                                 \n",
      " global_average_pooling2d (G  (None, 2048)             0         \n",
      " lobalAveragePooling2D)                                          \n",
      "                                                                 \n",
      " dense (Dense)               (None, 1024)              2098176   \n",
      "                                                                 \n",
      " batch_normalization_94 (Bat  (None, 1024)             4096      \n",
      " chNormalization)                                                \n",
      "                                                                 \n",
      " dense_1 (Dense)             (None, 128)               131200    \n",
      "                                                                 \n",
      " dense_2 (Dense)             (None, 13)                1677      \n",
      "                                                                 \n",
      "=================================================================\n",
      "Total params: 24,037,933\n",
      "Trainable params: 2,233,101\n",
      "Non-trainable params: 21,804,832\n",
      "_________________________________________________________________\n"
     ]
    }
   ],
   "source": [
    "backbone = InceptionV3(\n",
    "    include_top = False,\n",
    "    weights='imagenet',\n",
    "    input_shape=(CONFIGURATION[\"IMAGE_SIZE\"], CONFIGURATION[\"IMAGE_SIZE\"], 3),\n",
    "    )\n",
    "     \n",
    "backbone.trainable = False\n",
    "     \n",
    "model = tf.keras.Sequential([\n",
    "    Input(shape = (256, 256,3)),\n",
    "    resize_and_rescale,\n",
    "    data_augmentation,\n",
    "    backbone,\n",
    "    \n",
    "#     Conv2D(32,(3,3),activation=\"relu\",padding=\"same\"),\n",
    "#     MaxPooling2D(3,3),\n",
    "    \n",
    "#     Conv2D(64,(3,3),activation=\"relu\",padding=\"same\"),\n",
    "#     Conv2D(64,(3,3),activation=\"relu\",padding=\"same\"),\n",
    "    \n",
    "#     MaxPooling2D(2,2),\n",
    "    \n",
    "    GlobalAveragePooling2D(),\n",
    "    \n",
    "    Dense(1024, activation = \"relu\"),\n",
    "    \n",
    "    BatchNormalization(),\n",
    "    \n",
    "    Dense(128, activation = \"relu\"),\n",
    "    Dense(13, activation = \"softmax\"),\n",
    "    ])\n",
    "\n",
    "model.summary()"
   ]
  },
  {
   "cell_type": "markdown",
   "id": "7133ba67",
   "metadata": {
    "papermill": {
     "duration": 0.012352,
     "end_time": "2023-11-24T07:42:49.037691",
     "exception": false,
     "start_time": "2023-11-24T07:42:49.025339",
     "status": "completed"
    },
    "tags": []
   },
   "source": [
    "# Training Analysis through Metrics"
   ]
  },
  {
   "cell_type": "code",
   "execution_count": 13,
   "id": "936472ea",
   "metadata": {
    "execution": {
     "iopub.execute_input": "2023-11-24T07:42:49.064982Z",
     "iopub.status.busy": "2023-11-24T07:42:49.064635Z",
     "iopub.status.idle": "2023-11-24T07:42:49.073514Z",
     "shell.execute_reply": "2023-11-24T07:42:49.072461Z"
    },
    "papermill": {
     "duration": 0.025004,
     "end_time": "2023-11-24T07:42:49.075693",
     "exception": false,
     "start_time": "2023-11-24T07:42:49.050689",
     "status": "completed"
    },
    "tags": []
   },
   "outputs": [],
   "source": [
    "class Precision(tf.keras.metrics.Metric):\n",
    "    def __init__(self, name='precision', **kwargs):\n",
    "        super(Precision, self).__init__(name=name, **kwargs)\n",
    "        self.true_positives = self.add_weight(name='tp', initializer='zeros')\n",
    "        self.false_positives = self.add_weight(name='fp', initializer='zeros')\n",
    "\n",
    "    def update_state(self, y_true, y_pred, sample_weight=None):\n",
    "        y_pred = tf.cast(tf.greater(y_pred, 0.5), tf.float32)\n",
    "        tp = tf.reduce_sum(tf.cast(tf.logical_and(tf.equal(y_true, 1), tf.equal(y_pred, 1)), tf.float32))\n",
    "        fp = tf.reduce_sum(tf.cast(tf.logical_and(tf.equal(y_true, 0), tf.equal(y_pred, 1)), tf.float32))\n",
    "        self.true_positives.assign_add(tp)\n",
    "        self.false_positives.assign_add(fp)\n",
    "\n",
    "    def result(self):\n",
    "        return self.true_positives / (self.true_positives + self.false_positives + tf.keras.backend.epsilon())"
   ]
  },
  {
   "cell_type": "code",
   "execution_count": 14,
   "id": "b2e00d4d",
   "metadata": {
    "execution": {
     "iopub.execute_input": "2023-11-24T07:42:49.103228Z",
     "iopub.status.busy": "2023-11-24T07:42:49.102434Z",
     "iopub.status.idle": "2023-11-24T07:42:49.111566Z",
     "shell.execute_reply": "2023-11-24T07:42:49.110650Z"
    },
    "papermill": {
     "duration": 0.02482,
     "end_time": "2023-11-24T07:42:49.113568",
     "exception": false,
     "start_time": "2023-11-24T07:42:49.088748",
     "status": "completed"
    },
    "tags": []
   },
   "outputs": [],
   "source": [
    "class Recall(tf.keras.metrics.Metric):\n",
    "    def __init__(self, name='recall', **kwargs):\n",
    "        super(Recall, self).__init__(name=name, **kwargs)\n",
    "        self.true_positives = self.add_weight(name='tp', initializer='zeros')\n",
    "        self.false_negatives = self.add_weight(name='fn', initializer='zeros')\n",
    "\n",
    "    def update_state(self, y_true, y_pred, sample_weight=None):\n",
    "        y_pred = tf.cast(tf.greater(y_pred, 0.5), tf.float32)\n",
    "        tp = tf.reduce_sum(tf.cast(tf.logical_and(tf.equal(y_true, 1), tf.equal(y_pred, 1)), tf.float32))\n",
    "        fn = tf.reduce_sum(tf.cast(tf.logical_and(tf.equal(y_true, 1), tf.equal(y_pred, 0)), tf.float32))\n",
    "        self.true_positives.assign_add(tp)\n",
    "        self.false_negatives.assign_add(fn)\n",
    "\n",
    "    def result(self):\n",
    "        return self.true_positives / (self.true_positives + self.false_negatives + tf.keras.backend.epsilon())"
   ]
  },
  {
   "cell_type": "code",
   "execution_count": 15,
   "id": "515ff360",
   "metadata": {
    "execution": {
     "iopub.execute_input": "2023-11-24T07:42:49.142173Z",
     "iopub.status.busy": "2023-11-24T07:42:49.141325Z",
     "iopub.status.idle": "2023-11-24T07:42:49.148432Z",
     "shell.execute_reply": "2023-11-24T07:42:49.147589Z"
    },
    "papermill": {
     "duration": 0.023115,
     "end_time": "2023-11-24T07:42:49.150388",
     "exception": false,
     "start_time": "2023-11-24T07:42:49.127273",
     "status": "completed"
    },
    "tags": []
   },
   "outputs": [],
   "source": [
    "class F1Score(tf.keras.metrics.Metric):\n",
    "    def __init__(self, name='f1_score', **kwargs):\n",
    "        super(F1Score, self).__init__(name=name, **kwargs)\n",
    "        self.precision = Precision()\n",
    "        self.recall = Recall()\n",
    "\n",
    "    def update_state(self, y_true, y_pred, sample_weight=None):\n",
    "        self.precision.update_state(y_true, y_pred)\n",
    "        self.recall.update_state(y_true, y_pred)\n",
    "\n",
    "    def result(self):\n",
    "        precision = self.precision.result()\n",
    "        recall = self.recall.result()\n",
    "        return 2 * ((precision * recall) / (precision + recall + tf.keras.backend.epsilon()))"
   ]
  },
  {
   "cell_type": "markdown",
   "id": "4949aacf",
   "metadata": {
    "papermill": {
     "duration": 0.0122,
     "end_time": "2023-11-24T07:42:49.175980",
     "exception": false,
     "start_time": "2023-11-24T07:42:49.163780",
     "status": "completed"
    },
    "tags": []
   },
   "source": [
    "# Model Compilation"
   ]
  },
  {
   "cell_type": "code",
   "execution_count": 16,
   "id": "5d19c37d",
   "metadata": {
    "execution": {
     "iopub.execute_input": "2023-11-24T07:42:49.203358Z",
     "iopub.status.busy": "2023-11-24T07:42:49.202687Z",
     "iopub.status.idle": "2023-11-24T07:42:49.237593Z",
     "shell.execute_reply": "2023-11-24T07:42:49.236801Z"
    },
    "papermill": {
     "duration": 0.05158,
     "end_time": "2023-11-24T07:42:49.240342",
     "exception": false,
     "start_time": "2023-11-24T07:42:49.188762",
     "status": "completed"
    },
    "tags": []
   },
   "outputs": [],
   "source": [
    "model.compile(\n",
    "    optimizer=\"adam\",\n",
    "    loss=tf.keras.losses.CategoricalCrossentropy(from_logits=False), \n",
    "    metrics=[\"accuracy\",Precision(), Recall(), F1Score()]  #metrics used to track training\n",
    ")"
   ]
  },
  {
   "cell_type": "markdown",
   "id": "bdee9f00",
   "metadata": {
    "papermill": {
     "duration": 0.012537,
     "end_time": "2023-11-24T07:42:49.265801",
     "exception": false,
     "start_time": "2023-11-24T07:42:49.253264",
     "status": "completed"
    },
    "tags": []
   },
   "source": [
    "# Model Training"
   ]
  },
  {
   "cell_type": "code",
   "execution_count": 17,
   "id": "ba3a6885",
   "metadata": {
    "execution": {
     "iopub.execute_input": "2023-11-24T07:42:49.346911Z",
     "iopub.status.busy": "2023-11-24T07:42:49.346536Z",
     "iopub.status.idle": "2023-11-24T07:43:36.091958Z",
     "shell.execute_reply": "2023-11-24T07:43:36.091001Z"
    },
    "papermill": {
     "duration": 46.761593,
     "end_time": "2023-11-24T07:43:36.094006",
     "exception": false,
     "start_time": "2023-11-24T07:42:49.332413",
     "status": "completed"
    },
    "tags": []
   },
   "outputs": [
    {
     "name": "stdout",
     "output_type": "stream",
     "text": [
      "Epoch 1/12\n",
      "57/57 [==============================] - 26s 142ms/step - loss: 1.6371 - accuracy: 0.5110 - precision: 0.6825 - recall: 0.4101 - f1_score: 0.5123 - val_loss: 1.5639 - val_accuracy: 0.5536 - val_precision: 0.6744 - val_recall: 0.5179 - val_f1_score: 0.5859\n",
      "Epoch 2/12\n",
      "57/57 [==============================] - 2s 32ms/step - loss: 0.7789 - accuracy: 0.7588 - precision: 0.8229 - recall: 0.6930 - f1_score: 0.7524 - val_loss: 1.2423 - val_accuracy: 0.5893 - val_precision: 0.6585 - val_recall: 0.4821 - val_f1_score: 0.5567\n",
      "Epoch 3/12\n",
      "57/57 [==============================] - 2s 32ms/step - loss: 0.5402 - accuracy: 0.8224 - precision: 0.8706 - recall: 0.7675 - f1_score: 0.8159 - val_loss: 0.7659 - val_accuracy: 0.7500 - val_precision: 0.8400 - val_recall: 0.7500 - val_f1_score: 0.7925\n",
      "Epoch 4/12\n",
      "57/57 [==============================] - 2s 32ms/step - loss: 0.4803 - accuracy: 0.8640 - precision: 0.9007 - recall: 0.8355 - f1_score: 0.8669 - val_loss: 0.8978 - val_accuracy: 0.7143 - val_precision: 0.8125 - val_recall: 0.6964 - val_f1_score: 0.7500\n",
      "Epoch 5/12\n",
      "57/57 [==============================] - 2s 33ms/step - loss: 0.3756 - accuracy: 0.8904 - precision: 0.9212 - recall: 0.8465 - f1_score: 0.8823 - val_loss: 1.0813 - val_accuracy: 0.7321 - val_precision: 0.7692 - val_recall: 0.7143 - val_f1_score: 0.7407\n",
      "Epoch 6/12\n",
      "57/57 [==============================] - 2s 33ms/step - loss: 0.3932 - accuracy: 0.8816 - precision: 0.9110 - recall: 0.8531 - f1_score: 0.8811 - val_loss: 1.1619 - val_accuracy: 0.7143 - val_precision: 0.7451 - val_recall: 0.6786 - val_f1_score: 0.7103\n",
      "Epoch 7/12\n",
      "57/57 [==============================] - 2s 33ms/step - loss: 0.3168 - accuracy: 0.8904 - precision: 0.9129 - recall: 0.8509 - f1_score: 0.8808 - val_loss: 1.1149 - val_accuracy: 0.7143 - val_precision: 0.7500 - val_recall: 0.6964 - val_f1_score: 0.7222\n",
      "Epoch 8/12\n",
      "57/57 [==============================] - 2s 33ms/step - loss: 0.2417 - accuracy: 0.9254 - precision: 0.9427 - recall: 0.9013 - f1_score: 0.9215 - val_loss: 2.1473 - val_accuracy: 0.6786 - val_precision: 0.6786 - val_recall: 0.6786 - val_f1_score: 0.6786\n",
      "Epoch 9/12\n",
      "57/57 [==============================] - 2s 32ms/step - loss: 0.2066 - accuracy: 0.9320 - precision: 0.9497 - recall: 0.9101 - f1_score: 0.9295 - val_loss: 0.5173 - val_accuracy: 0.8929 - val_precision: 0.9057 - val_recall: 0.8571 - val_f1_score: 0.8807\n",
      "Epoch 10/12\n",
      "57/57 [==============================] - 2s 32ms/step - loss: 0.2537 - accuracy: 0.9145 - precision: 0.9432 - recall: 0.9101 - f1_score: 0.9263 - val_loss: 1.1696 - val_accuracy: 0.6964 - val_precision: 0.6964 - val_recall: 0.6964 - val_f1_score: 0.6964\n",
      "Epoch 11/12\n",
      "57/57 [==============================] - 2s 32ms/step - loss: 0.2080 - accuracy: 0.9408 - precision: 0.9525 - recall: 0.9232 - f1_score: 0.9376 - val_loss: 0.6698 - val_accuracy: 0.8750 - val_precision: 0.8889 - val_recall: 0.8571 - val_f1_score: 0.8727\n",
      "Epoch 12/12\n",
      "57/57 [==============================] - 2s 32ms/step - loss: 0.2340 - accuracy: 0.9276 - precision: 0.9409 - recall: 0.9079 - f1_score: 0.9241 - val_loss: 0.6768 - val_accuracy: 0.8214 - val_precision: 0.8364 - val_recall: 0.8214 - val_f1_score: 0.8288\n"
     ]
    }
   ],
   "source": [
    "EPOCHS = 12\n",
    "history = model.fit(\n",
    "    train_ds,\n",
    "    epochs=EPOCHS,\n",
    "    batch_size=8,\n",
    "    verbose=1,  \n",
    "    validation_data=val_ds\n",
    ")"
   ]
  },
  {
   "cell_type": "markdown",
   "id": "a9b7e042",
   "metadata": {
    "papermill": {
     "duration": 0.04072,
     "end_time": "2023-11-24T07:43:36.176951",
     "exception": false,
     "start_time": "2023-11-24T07:43:36.136231",
     "status": "completed"
    },
    "tags": []
   },
   "source": [
    "# Plotting Metrics"
   ]
  },
  {
   "cell_type": "code",
   "execution_count": 18,
   "id": "22c7cd7a",
   "metadata": {
    "execution": {
     "iopub.execute_input": "2023-11-24T07:43:36.262513Z",
     "iopub.status.busy": "2023-11-24T07:43:36.261476Z",
     "iopub.status.idle": "2023-11-24T07:43:36.582791Z",
     "shell.execute_reply": "2023-11-24T07:43:36.581793Z"
    },
    "papermill": {
     "duration": 0.366559,
     "end_time": "2023-11-24T07:43:36.584900",
     "exception": false,
     "start_time": "2023-11-24T07:43:36.218341",
     "status": "completed"
    },
    "tags": []
   },
   "outputs": [
    {
     "data": {
      "image/png": "[encoded data removed]",
      "text/plain": [
       "<Figure size 640x480 with 1 Axes>"
      ]
     },
     "metadata": {},
     "output_type": "display_data"
    }
   ],
   "source": [
    "plt.plot(history.history['loss'])\n",
    "plt.plot(history.history['val_loss'])\n",
    "plt.title('Model Loss')\n",
    "plt.ylabel('Loss')\n",
    "plt.xlabel('epoch')\n",
    "plt.legend(['train_loss','val_loss'])\n",
    "plt.show()"
   ]
  },
  {
   "cell_type": "code",
   "execution_count": 19,
   "id": "f736693b",
   "metadata": {
    "execution": {
     "iopub.execute_input": "2023-11-24T07:43:36.669906Z",
     "iopub.status.busy": "2023-11-24T07:43:36.669526Z",
     "iopub.status.idle": "2023-11-24T07:43:36.950588Z",
     "shell.execute_reply": "2023-11-24T07:43:36.949678Z"
    },
    "papermill": {
     "duration": 0.326213,
     "end_time": "2023-11-24T07:43:36.952898",
     "exception": false,
     "start_time": "2023-11-24T07:43:36.626685",
     "status": "completed"
    },
    "tags": []
   },
   "outputs": [
    {
     "data": {
      "image/png": "[encoded data removed]",
      "text/plain": [
       "<Figure size 640x480 with 1 Axes>"
      ]
     },
     "metadata": {},
     "output_type": "display_data"
    }
   ],
   "source": [
    "plt.plot(history.history['accuracy'])\n",
    "plt.plot(history.history['val_accuracy'])\n",
    "plt.title('Model Accuracy')\n",
    "plt.ylabel('Accuracy')\n",
    "plt.xlabel('epoch')\n",
    "plt.legend(['train_acc','val_acc'])\n",
    "plt.show()"
   ]
  },
  {
   "cell_type": "code",
   "execution_count": 20,
   "id": "d1160090",
   "metadata": {
    "execution": {
     "iopub.execute_input": "2023-11-24T07:43:37.039837Z",
     "iopub.status.busy": "2023-11-24T07:43:37.038961Z",
     "iopub.status.idle": "2023-11-24T07:43:37.335974Z",
     "shell.execute_reply": "2023-11-24T07:43:37.335012Z"
    },
    "papermill": {
     "duration": 0.3426,
     "end_time": "2023-11-24T07:43:37.338099",
     "exception": false,
     "start_time": "2023-11-24T07:43:36.995499",
     "status": "completed"
    },
    "tags": []
   },
   "outputs": [
    {
     "data": {
      "image/png": "[encoded data removed]",
      "text/plain": [
       "<Figure size 640x480 with 1 Axes>"
      ]
     },
     "metadata": {},
     "output_type": "display_data"
    }
   ],
   "source": [
    "plt.plot(history.history['precision'])\n",
    "plt.plot(history.history['val_precision'])\n",
    "plt.title('Model Precision')\n",
    "plt.ylabel('Precision')\n",
    "plt.xlabel('epoch')\n",
    "plt.legend(['train_prec','val_prec'])\n",
    "plt.show()"
   ]
  },
  {
   "cell_type": "code",
   "execution_count": 21,
   "id": "15fcc2f1",
   "metadata": {
    "execution": {
     "iopub.execute_input": "2023-11-24T07:43:37.425943Z",
     "iopub.status.busy": "2023-11-24T07:43:37.425274Z",
     "iopub.status.idle": "2023-11-24T07:43:37.706771Z",
     "shell.execute_reply": "2023-11-24T07:43:37.705822Z"
    },
    "papermill": {
     "duration": 0.327941,
     "end_time": "2023-11-24T07:43:37.709023",
     "exception": false,
     "start_time": "2023-11-24T07:43:37.381082",
     "status": "completed"
    },
    "tags": []
   },
   "outputs": [
    {
     "data": {
      "image/png": "[encoded data removed]",
      "text/plain": [
       "<Figure size 640x480 with 1 Axes>"
      ]
     },
     "metadata": {},
     "output_type": "display_data"
    }
   ],
   "source": [
    "plt.plot(history.history['recall'])\n",
    "plt.plot(history.history['val_recall'])\n",
    "plt.title('Model Recall')\n",
    "plt.ylabel('Recall')\n",
    "plt.xlabel('epoch')\n",
    "plt.legend(['train_recall','val_recall'])\n",
    "plt.show()"
   ]
  },
  {
   "cell_type": "code",
   "execution_count": 22,
   "id": "90a622b9",
   "metadata": {
    "execution": {
     "iopub.execute_input": "2023-11-24T07:43:37.798933Z",
     "iopub.status.busy": "2023-11-24T07:43:37.798536Z",
     "iopub.status.idle": "2023-11-24T07:43:38.082478Z",
     "shell.execute_reply": "2023-11-24T07:43:38.081478Z"
    },
    "papermill": {
     "duration": 0.332062,
     "end_time": "2023-11-24T07:43:38.084665",
     "exception": false,
     "start_time": "2023-11-24T07:43:37.752603",
     "status": "completed"
    },
    "tags": []
   },
   "outputs": [
    {
     "data": {
      "image/png": "[encoded data removed]",
      "text/plain": [
       "<Figure size 640x480 with 1 Axes>"
      ]
     },
     "metadata": {},
     "output_type": "display_data"
    }
   ],
   "source": [
    "plt.plot(history.history['f1_score'])\n",
    "plt.plot(history.history['val_f1_score'])\n",
    "plt.title('Model F1_Score')\n",
    "plt.ylabel('F1_Score')\n",
    "plt.xlabel('epoch')\n",
    "plt.legend(['train_f1_score','val_f1_score'])\n",
    "plt.show()"
   ]
  },
  {
   "cell_type": "markdown",
   "id": "bcb89ae7",
   "metadata": {
    "papermill": {
     "duration": 0.0441,
     "end_time": "2023-11-24T07:43:38.172841",
     "exception": false,
     "start_time": "2023-11-24T07:43:38.128741",
     "status": "completed"
    },
    "tags": []
   },
   "source": [
    "# Model Evaluation and Prediction"
   ]
  },
  {
   "cell_type": "code",
   "execution_count": 23,
   "id": "17277337",
   "metadata": {
    "execution": {
     "iopub.execute_input": "2023-11-24T07:43:38.263536Z",
     "iopub.status.busy": "2023-11-24T07:43:38.262941Z",
     "iopub.status.idle": "2023-11-24T07:43:42.816036Z",
     "shell.execute_reply": "2023-11-24T07:43:42.815075Z"
    },
    "papermill": {
     "duration": 4.601294,
     "end_time": "2023-11-24T07:43:42.818225",
     "exception": false,
     "start_time": "2023-11-24T07:43:38.216931",
     "status": "completed"
    },
    "tags": []
   },
   "outputs": [
    {
     "name": "stdout",
     "output_type": "stream",
     "text": [
      "7/7 [==============================] - 5s 29ms/step - loss: 0.4868 - accuracy: 0.8571 - precision: 0.8679 - recall: 0.8214 - f1_score: 0.8440\n"
     ]
    },
    {
     "data": {
      "text/plain": [
       "[0.4868197441101074,\n",
       " 0.8571428656578064,\n",
       " 0.8679245114326477,\n",
       " 0.8214285969734192,\n",
       " 0.8440366387367249]"
      ]
     },
     "execution_count": 23,
     "metadata": {},
     "output_type": "execute_result"
    }
   ],
   "source": [
    "model.evaluate(test_ds)"
   ]
  },
  {
   "cell_type": "code",
   "execution_count": 24,
   "id": "9cebb3ca",
   "metadata": {
    "execution": {
     "iopub.execute_input": "2023-11-24T07:43:42.908274Z",
     "iopub.status.busy": "2023-11-24T07:43:42.907915Z",
     "iopub.status.idle": "2023-11-24T07:43:42.912331Z",
     "shell.execute_reply": "2023-11-24T07:43:42.911400Z"
    },
    "papermill": {
     "duration": 0.051686,
     "end_time": "2023-11-24T07:43:42.914308",
     "exception": false,
     "start_time": "2023-11-24T07:43:42.862622",
     "status": "completed"
    },
    "tags": []
   },
   "outputs": [],
   "source": [
    "# plt.figure(figsize=(24,24))\n",
    "# for images, labels in test_ds.take(1):\n",
    "#     for i in range(min(16, len(images))):\n",
    "#         ax = plt.subplot(4,4,i+1)\n",
    "#         plt.imshow(images[i]/255.)\n",
    "#         plt.title(\"True Label : \"+ CONFIGURATION[\"class_names\"][tf.argmax(labels[i], axis=-1).numpy()] + \"\\n\" + \"Predicted Label : \" + CONFIGURATION[\"class_names\"][int(tf.argmax(model(tf.expand_dims(images[i], axis=0)), axis=-1).numpy()[0])])"
   ]
  },
  {
   "cell_type": "code",
   "execution_count": 25,
   "id": "1e3c8339",
   "metadata": {
    "execution": {
     "iopub.execute_input": "2023-11-24T07:43:43.005295Z",
     "iopub.status.busy": "2023-11-24T07:43:43.004469Z",
     "iopub.status.idle": "2023-11-24T07:43:45.375308Z",
     "shell.execute_reply": "2023-11-24T07:43:45.374305Z"
    },
    "papermill": {
     "duration": 2.418427,
     "end_time": "2023-11-24T07:43:45.377375",
     "exception": false,
     "start_time": "2023-11-24T07:43:42.958948",
     "status": "completed"
    },
    "tags": []
   },
   "outputs": [
    {
     "name": "stdout",
     "output_type": "stream",
     "text": [
      "1/1 [==============================] - 2s 2s/step\n"
     ]
    }
   ],
   "source": [
    "from tensorflow.keras.preprocessing.image import load_img, img_to_array\n",
    "\n",
    "image_path = '/kaggle/input/victoria/WhatsApp Image 2023-11-24 at 12.51.17.jpeg'\n",
    "img = load_img(image_path, target_size=(256, 256))\n",
    "img = img_to_array(img)\n",
    "img = np.expand_dims(img, axis=0)\n",
    "\n",
    "prediction = model.predict(img)"
   ]
  },
  {
   "cell_type": "code",
   "execution_count": 26,
   "id": "ea535a68",
   "metadata": {
    "execution": {
     "iopub.execute_input": "2023-11-24T07:43:45.469509Z",
     "iopub.status.busy": "2023-11-24T07:43:45.468653Z",
     "iopub.status.idle": "2023-11-24T07:43:45.475083Z",
     "shell.execute_reply": "2023-11-24T07:43:45.474196Z"
    },
    "papermill": {
     "duration": 0.054481,
     "end_time": "2023-11-24T07:43:45.477146",
     "exception": false,
     "start_time": "2023-11-24T07:43:45.422665",
     "status": "completed"
    },
    "tags": []
   },
   "outputs": [
    {
     "name": "stdout",
     "output_type": "stream",
     "text": [
      "Predicted Label: Victoria Memorial,Kolkata,India\n"
     ]
    }
   ],
   "source": [
    "class_labels = ['Belur Math,Kolkata,India','Black Hole Monument,Kolkata,India','Dakshineswar Kali Temple,Kolkata,India','Fort William,Kolkata,India','Howrah Bridge,Kolkata,India','James Princep Memorial,Kolkata,India','Marble Palace,Kolkata,India','Metcalfe Hall,Kolkata,India','Raj Bhavan,Kolkata,India','Shaheed Minar,Kolkata,India','St. Pauls Cathedral,Kolkata,India','Victoria Memorial,Kolkata,India','Writer’s Building,Kolkata,India']  # Replace with your actual class labels\n",
    "\n",
    "predicted_class_index = np.argmax(prediction)\n",
    "predicted_label = class_labels[predicted_class_index]\n",
    "\n",
    "print(\"Predicted Label:\", predicted_label)"
   ]
  },
  {
   "cell_type": "markdown",
   "id": "8779f34e",
   "metadata": {
    "papermill": {
     "duration": 0.04425,
     "end_time": "2023-11-24T07:43:45.566459",
     "exception": false,
     "start_time": "2023-11-24T07:43:45.522209",
     "status": "completed"
    },
    "tags": []
   },
   "source": [
    "# Saving model"
   ]
  },
  {
   "cell_type": "code",
   "execution_count": 27,
   "id": "5ae27398",
   "metadata": {
    "execution": {
     "iopub.execute_input": "2023-11-24T07:43:45.657779Z",
     "iopub.status.busy": "2023-11-24T07:43:45.657382Z",
     "iopub.status.idle": "2023-11-24T07:43:45.661562Z",
     "shell.execute_reply": "2023-11-24T07:43:45.660708Z"
    },
    "papermill": {
     "duration": 0.05179,
     "end_time": "2023-11-24T07:43:45.663464",
     "exception": false,
     "start_time": "2023-11-24T07:43:45.611674",
     "status": "completed"
    },
    "tags": []
   },
   "outputs": [],
   "source": [
    "# model.save('MonuNetv3.h5')"
   ]
  },
  {
   "cell_type": "code",
   "execution_count": null,
   "id": "bf48ce20",
   "metadata": {
    "papermill": {
     "duration": 0.044998,
     "end_time": "2023-11-24T07:43:45.753312",
     "exception": false,
     "start_time": "2023-11-24T07:43:45.708314",
     "status": "completed"
    },
    "tags": []
   },
   "outputs": [],
   "source": []
  }
 ],
 "metadata": {
  "kaggle": {
   "accelerator": "gpu",
   "dataSources": [
    {
     "datasetId": 3958790,
     "sourceId": 6891241,
     "sourceType": "datasetVersion"
    },
    {
     "datasetId": 4051035,
     "sourceId": 7041128,
     "sourceType": "datasetVersion"
    },
    {
     "datasetId": 4051049,
     "sourceId": 7041145,
     "sourceType": "datasetVersion"
    },
    {
     "datasetId": 4051112,
     "sourceId": 7041230,
     "sourceType": "datasetVersion"
    }
   ],
   "dockerImageVersionId": 30559,
   "isGpuEnabled": true,
   "isInternetEnabled": true,
   "language": "python",
   "sourceType": "notebook"
  },
  "kernelspec": {
   "display_name": "Python 3",
   "language": "python",
   "name": "python3"
  },
  "language_info": {
   "codemirror_mode": {
    "name": "ipython",
    "version": 3
   },
   "file_extension": ".py",
   "mimetype": "text/x-python",
   "name": "python",
   "nbconvert_exporter": "python",
   "pygments_lexer": "ipython3",
   "version": "3.10.12"
  },
  "papermill": {
   "default_parameters": {},
   "duration": 81.636651,
   "end_time": "2023-11-24T07:43:49.258093",
   "environment_variables": {},
   "exception": null,
   "input_path": "__notebook__.ipynb",
   "output_path": "__notebook__.ipynb",
   "parameters": {},
   "start_time": "2023-11-24T07:42:27.621442",
   "version": "2.4.0"
  }
 },
 "nbformat": 4,
 "nbformat_minor": 5
}
